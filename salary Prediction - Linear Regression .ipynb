{
 "cells": [
  {
   "cell_type": "markdown",
   "id": "121e834a",
   "metadata": {},
   "source": [
    "# Importing Libraries"
   ]
  },
  {
   "cell_type": "code",
   "execution_count": 1,
   "id": "7e3208f6",
   "metadata": {},
   "outputs": [],
   "source": [
    "import numpy as np \n",
    "import pandas as pd \n",
    "import matplotlib.pyplot as plt\n",
    "from sklearn.model_selection import train_test_split \n",
    "from sklearn.linear_model import LinearRegression"
   ]
  },
  {
   "cell_type": "markdown",
   "id": "27433f0a",
   "metadata": {},
   "source": [
    "# Getting Dataset"
   ]
  },
  {
   "cell_type": "code",
   "execution_count": 2,
   "id": "20523cef",
   "metadata": {},
   "outputs": [
    {
     "name": "stdout",
     "output_type": "stream",
     "text": [
      "    years_experience  salary\n",
      "0                1.0  325000\n",
      "1                1.2  361259\n",
      "2                1.6  340000\n",
      "3                2.0  414101\n",
      "4                2.3  405000\n",
      "5                2.8  500000\n",
      "6                3.0  495000\n",
      "7                3.3  541000\n",
      "8                3.6  568190\n",
      "9                3.6  640000\n",
      "10               4.0  610000\n",
      "11               4.1  626710\n",
      "12               4.4  690101\n",
      "13               4.5  680000\n",
      "14               4.9  760000\n",
      "15               5.1  800000\n",
      "16               5.3  780000\n",
      "17               5.9  840000\n",
      "18               6.1  860000\n",
      "19               6.7  900000\n",
      "20               6.9  930000\n",
      "21               7.1  920000\n",
      "22               7.3  910000\n",
      "23               7.5  931910\n",
      "24               7.7  951010\n"
     ]
    }
   ],
   "source": [
    "data=pd.read_csv('salary_data.csv')\n",
    "print(data)"
   ]
  },
  {
   "cell_type": "markdown",
   "id": "defbf708",
   "metadata": {},
   "source": [
    "# Splitting Data"
   ]
  },
  {
   "cell_type": "code",
   "execution_count": 8,
   "id": "d4af022f",
   "metadata": {},
   "outputs": [
    {
     "name": "stdout",
     "output_type": "stream",
     "text": [
      "[[1. ]\n",
      " [1.2]\n",
      " [1.6]\n",
      " [2. ]\n",
      " [2.3]\n",
      " [2.8]\n",
      " [3. ]\n",
      " [3.3]\n",
      " [3.6]\n",
      " [3.6]\n",
      " [4. ]\n",
      " [4.1]\n",
      " [4.4]\n",
      " [4.5]\n",
      " [4.9]\n",
      " [5.1]\n",
      " [5.3]\n",
      " [5.9]\n",
      " [6.1]\n",
      " [6.7]\n",
      " [6.9]\n",
      " [7.1]\n",
      " [7.3]\n",
      " [7.5]\n",
      " [7.7]]\n",
      "[325000 361259 340000 414101 405000 500000 495000 541000 568190 640000\n",
      " 610000 626710 690101 680000 760000 800000 780000 840000 860000 900000\n",
      " 930000 920000 910000 931910 951010]\n"
     ]
    }
   ],
   "source": [
    "x=data['years_experience'].values\n",
    "y=data['salary'].values\n",
    "x=x.reshape(-1,1)\n",
    "#print(x)\n",
    "#print(y)"
   ]
  },
  {
   "cell_type": "code",
   "execution_count": 9,
   "id": "d2b84f49",
   "metadata": {},
   "outputs": [
    {
     "data": {
      "image/png": "[encoded data removed]",
      "text/plain": [
       "<Figure size 640x480 with 1 Axes>"
      ]
     },
     "metadata": {},
     "output_type": "display_data"
    }
   ],
   "source": [
    "plt.scatter(x,y,color='red')\n",
    "plt.xlabel(\"experience years\")\n",
    "plt.ylabel(\"salary\")\n",
    "plt.title(\"experience vs salary\")\n",
    "plt.show()"
   ]
  },
  {
   "cell_type": "markdown",
   "id": "bd0b73df",
   "metadata": {},
   "source": [
    "# Splitting Data"
   ]
  },
  {
   "cell_type": "code",
   "execution_count": 10,
   "id": "af25428a",
   "metadata": {},
   "outputs": [],
   "source": [
    "xtrain,xtest,ytrain,ytest=train_test_split(x,y,test_size=0.1,random_state=42)"
   ]
  },
  {
   "cell_type": "markdown",
   "id": "6506a0a4",
   "metadata": {},
   "source": [
    "#  Creating and Training model"
   ]
  },
  {
   "cell_type": "markdown",
   "id": "b23b3d31",
   "metadata": {},
   "source": [
    "model=LinearRegression()\n",
    "model.fit(xtrain,ytrain)#training model"
   ]
  },
  {
   "cell_type": "markdown",
   "id": "73ab2aaa",
   "metadata": {},
   "source": [
    "# Testing model (or) prediction"
   ]
  },
  {
   "cell_type": "code",
   "execution_count": 15,
   "id": "839f59bc",
   "metadata": {},
   "outputs": [
    {
     "name": "stdout",
     "output_type": "stream",
     "text": [
      "Real Values : \n",
      "[931910 626710 640000 680000 361259 910000 500000 340000 690101 800000\n",
      " 414101 405000 930000 840000 920000 860000 951010 541000 610000 760000\n",
      " 900000 495000]\n",
      "Predicted Values : \n",
      "[583085.50210421 752952.03374029 323289.63019021]\n"
     ]
    }
   ],
   "source": [
    "ypred=model.predict(xtest)\n",
    "print(\"Real Values : \")\n",
    "print(ytrain)\n",
    "print(\"Predicted Values : \")\n",
    "print(ypred)"
   ]
  }
 ],
 "metadata": {
  "kernelspec": {
   "display_name": "Python 3 (ipykernel)",
   "language": "python",
   "name": "python3"
  },
  "language_info": {
   "codemirror_mode": {
    "name": "ipython",
    "version": 3
   },
   "file_extension": ".py",
   "mimetype": "text/x-python",
   "name": "python",
   "nbconvert_exporter": "python",
   "pygments_lexer": "ipython3",
   "version": "3.10.9"
  }
 },
 "nbformat": 4,
 "nbformat_minor": 5
}
